{
 "cells": [
  {
   "attachments": {},
   "cell_type": "markdown",
   "metadata": {},
   "source": [
    "# ETL"
   ]
  },
  {
   "attachments": {},
   "cell_type": "markdown",
   "metadata": {},
   "source": [
    "### En esta primera sección se realiza el ETL y posteriormente se hará el EDA de 5 conjuntos de datos desglosados por provincia."
   ]
  },
  {
   "cell_type": "code",
   "execution_count": 44,
   "metadata": {},
   "outputs": [],
   "source": [
    "import pandas as pd\n",
    "import numpy as np"
   ]
  },
  {
   "attachments": {},
   "cell_type": "markdown",
   "metadata": {},
   "source": [
    "Configurar para que solo muestre 2 decimales"
   ]
  },
  {
   "cell_type": "code",
   "execution_count": 45,
   "metadata": {},
   "outputs": [],
   "source": [
    "pd.set_option('display.float_format', '{:.2f}'.format)"
   ]
  },
  {
   "cell_type": "code",
   "execution_count": 46,
   "metadata": {},
   "outputs": [],
   "source": [
    "# read in the 6 dataframes\n",
    "df1 = pd.read_csv('csv/bajada_provincia.csv')\n",
    "df2 = pd.read_csv('csv/banda_dialup_provincia.csv')\n",
    "df3 = pd.read_csv('csv/penetracion_provincia.csv')\n",
    "df4 = pd.read_csv('csv/rango_velocidad_provincia.csv')\n",
    "df5 = pd.read_csv('csv/tecnologia_provincia.csv')"
   ]
  },
  {
   "attachments": {},
   "cell_type": "markdown",
   "metadata": {},
   "source": [
    "Eliminar algunas columnas innecesarias que impiden unir correctamente los 6 dataframes"
   ]
  },
  {
   "cell_type": "code",
   "execution_count": 47,
   "metadata": {},
   "outputs": [],
   "source": [
    "df4 = df4.drop(['OTROS', 'Total'], axis=1)\n",
    "df5 = df5.drop(['Otros'], axis=1)"
   ]
  },
  {
   "attachments": {},
   "cell_type": "markdown",
   "metadata": {},
   "source": [
    "Ajustar algunos valores y casteos para unir correctamente."
   ]
  },
  {
   "cell_type": "code",
   "execution_count": 48,
   "metadata": {},
   "outputs": [],
   "source": [
    "df5['Trimestre'] = df5['Trimestre'].str.replace('*', '').astype(int)\n",
    "df5['Año'] = df5['Año'].str.replace('*', '').astype(int)\n",
    "df5['Año'] = df5['Año'].astype(int)\n",
    "df5['Trimestre'] = df5['Trimestre'].astype(int)"
   ]
  },
  {
   "attachments": {},
   "cell_type": "markdown",
   "metadata": {},
   "source": [
    "Ir juntando las tablas una a una, según columnas que comparten."
   ]
  },
  {
   "cell_type": "code",
   "execution_count": 49,
   "metadata": {},
   "outputs": [],
   "source": [
    "df = pd.merge(df1, df2, on=['Año', 'Trimestre', 'Provincia'], how='inner')"
   ]
  },
  {
   "cell_type": "code",
   "execution_count": 50,
   "metadata": {},
   "outputs": [],
   "source": [
    "df = pd.merge(df, df3, on=['Año', 'Trimestre', 'Provincia'], how='inner')"
   ]
  },
  {
   "cell_type": "code",
   "execution_count": 51,
   "metadata": {},
   "outputs": [],
   "source": [
    "df = pd.merge(df, df4, on=['Año', 'Trimestre', 'Provincia'], how='inner')"
   ]
  },
  {
   "cell_type": "code",
   "execution_count": 52,
   "metadata": {},
   "outputs": [],
   "source": [
    "df = pd.merge(df, df5, on=['Año', 'Trimestre', 'Provincia', 'Total'], how='inner')"
   ]
  },
  {
   "attachments": {},
   "cell_type": "markdown",
   "metadata": {},
   "source": [
    "Eliminar columnas"
   ]
  },
  {
   "cell_type": "code",
   "execution_count": 53,
   "metadata": {},
   "outputs": [],
   "source": [
    "df = df.drop(['Unnamed: 4', 'Unnamed: 5'], axis=1)"
   ]
  },
  {
   "attachments": {},
   "cell_type": "markdown",
   "metadata": {},
   "source": [
    "Visualizar lista de columnas y posteriormente organizarlas de forma más coherente"
   ]
  },
  {
   "cell_type": "code",
   "execution_count": 54,
   "metadata": {},
   "outputs": [
    {
     "data": {
      "text/plain": [
       "['Año',\n",
       " 'Trimestre',\n",
       " 'Provincia',\n",
       " 'Mbps (Media de bajada)',\n",
       " 'Banda ancha fija',\n",
       " 'Dial up',\n",
       " 'Total',\n",
       " 'Accesos por cada 100 hogares',\n",
       " 'HASTA 512 kbps',\n",
       " '+ 512 Kbps - 1 Mbps',\n",
       " '+ 1 Mbps - 6 Mbps',\n",
       " '+ 6 Mbps - 10 Mbps',\n",
       " '+ 10 Mbps - 20 Mbps',\n",
       " '+ 20 Mbps - 30 Mbps',\n",
       " '+ 30 Mbps',\n",
       " 'ADSL',\n",
       " 'Cablemodem',\n",
       " 'Fibra óptica',\n",
       " 'Wireless']"
      ]
     },
     "execution_count": 54,
     "metadata": {},
     "output_type": "execute_result"
    }
   ],
   "source": [
    "df.columns.tolist()"
   ]
  },
  {
   "attachments": {},
   "cell_type": "markdown",
   "metadata": {},
   "source": [
    "Organizar el orden de las columnas del dataframe"
   ]
  },
  {
   "cell_type": "code",
   "execution_count": 55,
   "metadata": {},
   "outputs": [],
   "source": [
    "df = df[['Año','Trimestre','Provincia','Total','Accesos por cada 100 hogares','Banda ancha fija','Dial up','ADSL',\n",
    "         'Cablemodem','Fibra óptica','Wireless','Mbps (Media de bajada)','HASTA 512 kbps','+ 512 Kbps - 1 Mbps',\n",
    "         '+ 1 Mbps - 6 Mbps','+ 6 Mbps - 10 Mbps','+ 10 Mbps - 20 Mbps','+ 20 Mbps - 30 Mbps','+ 30 Mbps']]"
   ]
  },
  {
   "attachments": {},
   "cell_type": "markdown",
   "metadata": {},
   "source": [
    "Revisar si hay nulos"
   ]
  },
  {
   "cell_type": "code",
   "execution_count": 56,
   "metadata": {},
   "outputs": [
    {
     "data": {
      "text/plain": [
       "Año                             0\n",
       "Trimestre                       0\n",
       "Provincia                       0\n",
       "Total                           0\n",
       "Accesos por cada 100 hogares    0\n",
       "Banda ancha fija                0\n",
       "Dial up                         2\n",
       "ADSL                            0\n",
       "Cablemodem                      0\n",
       "Fibra óptica                    0\n",
       "Wireless                        0\n",
       "Mbps (Media de bajada)          0\n",
       "HASTA 512 kbps                  0\n",
       "+ 512 Kbps - 1 Mbps             0\n",
       "+ 1 Mbps - 6 Mbps               0\n",
       "+ 6 Mbps - 10 Mbps              0\n",
       "+ 10 Mbps - 20 Mbps             0\n",
       "+ 20 Mbps - 30 Mbps             0\n",
       "+ 30 Mbps                       0\n",
       "dtype: int64"
      ]
     },
     "execution_count": 56,
     "metadata": {},
     "output_type": "execute_result"
    }
   ],
   "source": [
    "df.isna().sum()"
   ]
  },
  {
   "attachments": {},
   "cell_type": "markdown",
   "metadata": {},
   "source": [
    "Visualizar filas donde están los valores nulos"
   ]
  },
  {
   "cell_type": "code",
   "execution_count": 57,
   "metadata": {},
   "outputs": [
    {
     "data": {
      "text/html": [
       "<div>\n",
       "<style scoped>\n",
       "    .dataframe tbody tr th:only-of-type {\n",
       "        vertical-align: middle;\n",
       "    }\n",
       "\n",
       "    .dataframe tbody tr th {\n",
       "        vertical-align: top;\n",
       "    }\n",
       "\n",
       "    .dataframe thead th {\n",
       "        text-align: right;\n",
       "    }\n",
       "</style>\n",
       "<table border=\"1\" class=\"dataframe\">\n",
       "  <thead>\n",
       "    <tr style=\"text-align: right;\">\n",
       "      <th></th>\n",
       "      <th>Año</th>\n",
       "      <th>Trimestre</th>\n",
       "      <th>Provincia</th>\n",
       "      <th>Total</th>\n",
       "      <th>Accesos por cada 100 hogares</th>\n",
       "      <th>Banda ancha fija</th>\n",
       "      <th>Dial up</th>\n",
       "      <th>ADSL</th>\n",
       "      <th>Cablemodem</th>\n",
       "      <th>Fibra óptica</th>\n",
       "      <th>Wireless</th>\n",
       "      <th>Mbps (Media de bajada)</th>\n",
       "      <th>HASTA 512 kbps</th>\n",
       "      <th>+ 512 Kbps - 1 Mbps</th>\n",
       "      <th>+ 1 Mbps - 6 Mbps</th>\n",
       "      <th>+ 6 Mbps - 10 Mbps</th>\n",
       "      <th>+ 10 Mbps - 20 Mbps</th>\n",
       "      <th>+ 20 Mbps - 30 Mbps</th>\n",
       "      <th>+ 30 Mbps</th>\n",
       "    </tr>\n",
       "  </thead>\n",
       "  <tbody>\n",
       "    <tr>\n",
       "      <th>416</th>\n",
       "      <td>2018</td>\n",
       "      <td>2</td>\n",
       "      <td>Formosa</td>\n",
       "      <td>44.554</td>\n",
       "      <td>29,43</td>\n",
       "      <td>44.554</td>\n",
       "      <td>NaN</td>\n",
       "      <td>23.543</td>\n",
       "      <td>7.311</td>\n",
       "      <td>18</td>\n",
       "      <td>13.62</td>\n",
       "      <td>9</td>\n",
       "      <td>1.11</td>\n",
       "      <td>3.57</td>\n",
       "      <td>22.409</td>\n",
       "      <td>5.18</td>\n",
       "      <td>9.73</td>\n",
       "      <td>1.31</td>\n",
       "      <td>1.243</td>\n",
       "    </tr>\n",
       "    <tr>\n",
       "      <th>421</th>\n",
       "      <td>2018</td>\n",
       "      <td>2</td>\n",
       "      <td>Misiones</td>\n",
       "      <td>106.147</td>\n",
       "      <td>31,63</td>\n",
       "      <td>106.147</td>\n",
       "      <td>NaN</td>\n",
       "      <td>57.265</td>\n",
       "      <td>47.923</td>\n",
       "      <td>512</td>\n",
       "      <td>391.00</td>\n",
       "      <td>12</td>\n",
       "      <td>48.00</td>\n",
       "      <td>6.09</td>\n",
       "      <td>39.489</td>\n",
       "      <td>23.57</td>\n",
       "      <td>23.75</td>\n",
       "      <td>11.89</td>\n",
       "      <td>3.866</td>\n",
       "    </tr>\n",
       "  </tbody>\n",
       "</table>\n",
       "</div>"
      ],
      "text/plain": [
       "      Año  Trimestre Provincia    Total Accesos por cada 100 hogares   \n",
       "416  2018          2   Formosa   44.554                        29,43  \\\n",
       "421  2018          2  Misiones  106.147                        31,63   \n",
       "\n",
       "    Banda ancha fija Dial up    ADSL Cablemodem Fibra óptica  Wireless   \n",
       "416           44.554     NaN  23.543      7.311           18     13.62  \\\n",
       "421          106.147     NaN  57.265     47.923          512    391.00   \n",
       "\n",
       "     Mbps (Media de bajada)  HASTA 512 kbps  + 512 Kbps - 1 Mbps   \n",
       "416                       9            1.11                 3.57  \\\n",
       "421                      12           48.00                 6.09   \n",
       "\n",
       "    + 1 Mbps - 6 Mbps  + 6 Mbps - 10 Mbps  + 10 Mbps - 20 Mbps   \n",
       "416            22.409                5.18                 9.73  \\\n",
       "421            39.489               23.57                23.75   \n",
       "\n",
       "     + 20 Mbps - 30 Mbps + 30 Mbps  \n",
       "416                 1.31     1.243  \n",
       "421                11.89     3.866  "
      ]
     },
     "execution_count": 57,
     "metadata": {},
     "output_type": "execute_result"
    }
   ],
   "source": [
    "df[df.isnull().any(axis=1)]"
   ]
  },
  {
   "attachments": {},
   "cell_type": "markdown",
   "metadata": {},
   "source": [
    "Llenar las celdas vacías con 0"
   ]
  },
  {
   "cell_type": "code",
   "execution_count": 58,
   "metadata": {},
   "outputs": [],
   "source": [
    "df.fillna(0, inplace=True)"
   ]
  },
  {
   "attachments": {},
   "cell_type": "markdown",
   "metadata": {},
   "source": [
    "Revisar los tipos de datos para cada columna"
   ]
  },
  {
   "cell_type": "code",
   "execution_count": 59,
   "metadata": {},
   "outputs": [
    {
     "data": {
      "text/plain": [
       "Año                               int64\n",
       "Trimestre                         int64\n",
       "Provincia                        object\n",
       "Total                            object\n",
       "Accesos por cada 100 hogares     object\n",
       "Banda ancha fija                 object\n",
       "Dial up                          object\n",
       "ADSL                             object\n",
       "Cablemodem                       object\n",
       "Fibra óptica                     object\n",
       "Wireless                        float64\n",
       "Mbps (Media de bajada)            int64\n",
       "HASTA 512 kbps                  float64\n",
       "+ 512 Kbps - 1 Mbps             float64\n",
       "+ 1 Mbps - 6 Mbps                object\n",
       "+ 6 Mbps - 10 Mbps              float64\n",
       "+ 10 Mbps - 20 Mbps             float64\n",
       "+ 20 Mbps - 30 Mbps             float64\n",
       "+ 30 Mbps                        object\n",
       "dtype: object"
      ]
     },
     "execution_count": 59,
     "metadata": {},
     "output_type": "execute_result"
    }
   ],
   "source": [
    "df.dtypes"
   ]
  },
  {
   "attachments": {},
   "cell_type": "markdown",
   "metadata": {},
   "source": [
    "Ajustar los tipos de datos y limpiar algunos datos."
   ]
  },
  {
   "cell_type": "code",
   "execution_count": 60,
   "metadata": {},
   "outputs": [],
   "source": [
    "df['Total'] = df['Total'].astype(str).str.replace('.', '').astype(int)\n",
    "df['Accesos por cada 100 hogares'] = df['Accesos por cada 100 hogares'].str.replace(',', '.').astype(float)\n",
    "df['Banda ancha fija'] = df['Banda ancha fija'].astype(str).str.replace('.', '').astype(int)\n",
    "df['Dial up'] = df['Dial up'].astype(str).str.replace('.', '').replace('- 0', '0').astype(int)\n",
    "df['ADSL'] = df['ADSL'].astype(str).str.replace('.', '').astype(int)\n",
    "df['Cablemodem'] = df['Cablemodem'].astype(str).str.replace('.', '').astype(int)\n",
    "df['Fibra óptica'] = df['Fibra óptica'].astype(str).str.replace('.', '').astype(int)\n",
    "df['Wireless'] = df['Wireless'].astype(str).str.replace('.', '').astype(int)\n",
    "df['HASTA 512 kbps'] = df['HASTA 512 kbps'].astype(str).str.replace('.', '').astype(int)\n",
    "df['+ 512 Kbps - 1 Mbps'] = df['+ 512 Kbps - 1 Mbps'].astype(str).str.replace('.', '').astype(int)\n",
    "df['+ 1 Mbps - 6 Mbps'] = df['+ 1 Mbps - 6 Mbps'].astype(str).str.replace('.', '').astype(int)\n",
    "df['+ 6 Mbps - 10 Mbps'] = df['+ 6 Mbps - 10 Mbps'].astype(str).str.replace('.', '').astype(int)\n",
    "df['+ 10 Mbps - 20 Mbps'] = df['+ 10 Mbps - 20 Mbps'].astype(str).str.replace('.', '').astype(int)\n",
    "df['+ 20 Mbps - 30 Mbps'] = df['+ 20 Mbps - 30 Mbps'].astype(str).str.replace('.', '').astype(int)\n",
    "df['+ 30 Mbps'] = df['+ 30 Mbps'].astype(str).str.replace('.', '').astype(int)"
   ]
  },
  {
   "attachments": {},
   "cell_type": "markdown",
   "metadata": {},
   "source": [
    "Renombrar las columnas para mejor legibilidad."
   ]
  },
  {
   "cell_type": "code",
   "execution_count": 61,
   "metadata": {},
   "outputs": [],
   "source": [
    "df = df.rename(columns={'Total': 'Usuarios totales',\n",
    "                        'HASTA 512 kbps':'Hasta 512 kbps',\n",
    "                        '+ 512 Kbps - 1 Mbps':'Entre 512 Kbps y 1 Mbps',\n",
    "                        '+ 1 Mbps - 6 Mbps':'Entre 1 Mbps y 6 Mbps',\n",
    "                        '+ 6 Mbps - 10 Mbps':'Entre 6 Mbps y 10 Mbps',\n",
    "                        '+ 10 Mbps - 20 Mbps':'Entre 10 Mbps y 20 Mbps',\n",
    "                        '+ 20 Mbps - 30 Mbps':'Entre 20 Mbps y 30 Mbps',\n",
    "                        '+ 30 Mbps':'Más de 30 Mbps'})"
   ]
  },
  {
   "attachments": {},
   "cell_type": "markdown",
   "metadata": {},
   "source": [
    "Exportar los datos a un archivo csv."
   ]
  },
  {
   "cell_type": "code",
   "execution_count": 62,
   "metadata": {},
   "outputs": [],
   "source": [
    "df.to_csv('provincias.csv', index=False)"
   ]
  },
  {
   "attachments": {},
   "cell_type": "markdown",
   "metadata": {},
   "source": [
    "# EDA"
   ]
  },
  {
   "attachments": {},
   "cell_type": "markdown",
   "metadata": {},
   "source": [
    "Revisar posibles duplicados"
   ]
  },
  {
   "cell_type": "code",
   "execution_count": 63,
   "metadata": {},
   "outputs": [
    {
     "data": {
      "text/html": [
       "<div>\n",
       "<style scoped>\n",
       "    .dataframe tbody tr th:only-of-type {\n",
       "        vertical-align: middle;\n",
       "    }\n",
       "\n",
       "    .dataframe tbody tr th {\n",
       "        vertical-align: top;\n",
       "    }\n",
       "\n",
       "    .dataframe thead th {\n",
       "        text-align: right;\n",
       "    }\n",
       "</style>\n",
       "<table border=\"1\" class=\"dataframe\">\n",
       "  <thead>\n",
       "    <tr style=\"text-align: right;\">\n",
       "      <th></th>\n",
       "      <th>Año</th>\n",
       "      <th>Trimestre</th>\n",
       "      <th>Provincia</th>\n",
       "      <th>Usuarios totales</th>\n",
       "      <th>Accesos por cada 100 hogares</th>\n",
       "      <th>Banda ancha fija</th>\n",
       "      <th>Dial up</th>\n",
       "      <th>ADSL</th>\n",
       "      <th>Cablemodem</th>\n",
       "      <th>Fibra óptica</th>\n",
       "      <th>Wireless</th>\n",
       "      <th>Mbps (Media de bajada)</th>\n",
       "      <th>Hasta 512 kbps</th>\n",
       "      <th>Entre 512 Kbps y 1 Mbps</th>\n",
       "      <th>Entre 1 Mbps y 6 Mbps</th>\n",
       "      <th>Entre 6 Mbps y 10 Mbps</th>\n",
       "      <th>Entre 10 Mbps y 20 Mbps</th>\n",
       "      <th>Entre 20 Mbps y 30 Mbps</th>\n",
       "      <th>Más de 30 Mbps</th>\n",
       "    </tr>\n",
       "  </thead>\n",
       "  <tbody>\n",
       "  </tbody>\n",
       "</table>\n",
       "</div>"
      ],
      "text/plain": [
       "Empty DataFrame\n",
       "Columns: [Año, Trimestre, Provincia, Usuarios totales, Accesos por cada 100 hogares, Banda ancha fija, Dial up, ADSL, Cablemodem, Fibra óptica, Wireless, Mbps (Media de bajada), Hasta 512 kbps, Entre 512 Kbps y 1 Mbps, Entre 1 Mbps y 6 Mbps, Entre 6 Mbps y 10 Mbps, Entre 10 Mbps y 20 Mbps, Entre 20 Mbps y 30 Mbps, Más de 30 Mbps]\n",
       "Index: []"
      ]
     },
     "execution_count": 63,
     "metadata": {},
     "output_type": "execute_result"
    }
   ],
   "source": [
    "df[df.duplicated()]"
   ]
  },
  {
   "attachments": {},
   "cell_type": "markdown",
   "metadata": {},
   "source": [
    "Observar la presencia de posibles outliers mediante el z-score"
   ]
  },
  {
   "cell_type": "code",
   "execution_count": 64,
   "metadata": {},
   "outputs": [
    {
     "data": {
      "text/plain": [
       "Año                              0\n",
       "Trimestre                        0\n",
       "Provincia                        0\n",
       "Usuarios totales                35\n",
       "Accesos por cada 100 hogares     8\n",
       "Banda ancha fija                35\n",
       "Dial up                         33\n",
       "ADSL                            23\n",
       "Cablemodem                      23\n",
       "Fibra óptica                    13\n",
       "Wireless                        23\n",
       "Mbps (Media de bajada)          16\n",
       "Hasta 512 kbps                  11\n",
       "Entre 512 Kbps y 1 Mbps         29\n",
       "Entre 1 Mbps y 6 Mbps           23\n",
       "Entre 6 Mbps y 10 Mbps          28\n",
       "Entre 10 Mbps y 20 Mbps         18\n",
       "Entre 20 Mbps y 30 Mbps         13\n",
       "Más de 30 Mbps                  17\n",
       "dtype: int64"
      ]
     },
     "execution_count": 64,
     "metadata": {},
     "output_type": "execute_result"
    }
   ],
   "source": [
    "# define a function to calculate z-scores\n",
    "def zscore(column):\n",
    "    return np.abs((column - column.mean()) / column.std())\n",
    "\n",
    "# apply the function to each numeric column\n",
    "z_scores = df[df.select_dtypes(include=[np.number]).columns].apply(zscore)\n",
    "\n",
    "# print rows where z-score is greater than 3\n",
    "df[z_scores > 3].count()"
   ]
  },
  {
   "attachments": {},
   "cell_type": "markdown",
   "metadata": {},
   "source": [
    "### Conclusiones \n",
    "\n",
    "##### Es normal que se presenten varios outliers por las características del dataset. La presencia de estos se debe a que en el campo de las telecomunicaciones se han presentado cambios frecuentes en las tecnologías, así como un crecimiento exponencial en su cobertura. Por lo anterior no se eliminarán estas filas.\n",
    "\n",
    "##### No se realizarán más gráficas para analizar las variables ya que son las mismas que aparecen en la otra libreta de jupyter \"ETL & EDA General\", aquí cambia la posibilidad de filtrar por provicia, pero eso se mostrará en el dashboard mismo."
   ]
  }
 ],
 "metadata": {
  "kernelspec": {
   "display_name": "Python 3",
   "language": "python",
   "name": "python3"
  },
  "language_info": {
   "codemirror_mode": {
    "name": "ipython",
    "version": 3
   },
   "file_extension": ".py",
   "mimetype": "text/x-python",
   "name": "python",
   "nbconvert_exporter": "python",
   "pygments_lexer": "ipython3",
   "version": "3.11.3"
  },
  "orig_nbformat": 4
 },
 "nbformat": 4,
 "nbformat_minor": 2
}
